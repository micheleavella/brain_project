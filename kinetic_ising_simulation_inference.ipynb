{
 "cells": [
  {
   "cell_type": "markdown",
   "id": "stylish-primary",
   "metadata": {},
   "source": [
    "(Parallelization at the end)"
   ]
  },
  {
   "cell_type": "code",
   "execution_count": 1,
   "id": "becoming-berkeley",
   "metadata": {},
   "outputs": [],
   "source": [
    "import numpy as np\n",
    "import matplotlib.pyplot as plt\n",
    "from tqdm import tqdm"
   ]
  },
  {
   "cell_type": "markdown",
   "id": "formal-collectible",
   "metadata": {},
   "source": [
    "## Kinetic Ising Model simulation\n",
    "Ising model with $N$ spins $\\{-1,1\\}$, cuplings matrix $J_{ij}$ and external field $h_i$. \n",
    "\n",
    "At each time step $\\delta t$ each spin $s_i$ flips with a probability \n",
    "$$p_{flip} = \\gamma \\delta t \\frac 1 2 [1-s_i(t)\\tanh H_i(t)] \\quad with \\quad\n",
    "H_i = h_i + \\sum_{j \\ne i} J_{ij}s_j(t)$$"
   ]
  },
  {
   "cell_type": "markdown",
   "id": "optical-latin",
   "metadata": {},
   "source": [
    "## Simulation"
   ]
  },
  {
   "cell_type": "code",
   "execution_count": 2,
   "id": "colored-classics",
   "metadata": {},
   "outputs": [],
   "source": [
    "def simulation(J,h,gamma,steps,dt):\n",
    "    S = [-np.ones(N)]\n",
    "    for i in tqdm(range(1,steps)):\n",
    "        s = np.copy(S[-1])\n",
    "        H = h + np.dot(J,s)\n",
    "        p_flip = gamma*dt*0.5*(1-s*np.tanh(H))\n",
    "        p = np.random.rand(N)\n",
    "        s[p<p_flip]*=-1\n",
    "        S.append(s)\n",
    "    S = np.array(S).T\n",
    "    return S"
   ]
  },
  {
   "cell_type": "code",
   "execution_count": 3,
   "id": "attempted-prospect",
   "metadata": {},
   "outputs": [
    {
     "name": "stderr",
     "output_type": "stream",
     "text": [
      "100%|██████████| 999999/999999 [00:16<00:00, 62049.56it/s]\n"
     ]
    }
   ],
   "source": [
    "np.random.seed(201098)\n",
    "\n",
    "N = 10\n",
    "#########################################\n",
    "J = np.random.normal(0,1,(N,N))\n",
    "np.fill_diagonal(J,0)\n",
    "h = np.random.normal(0,1,N)\n",
    "\n",
    "p_real = np.concatenate((J.flatten(),h))\n",
    "##########################################\n",
    "gamma = 1\n",
    "steps = 1_000_000#1_000_000\n",
    "dt = 0.1\n",
    "##########################################\n",
    "##SIMULATION\n",
    "np.random.seed(12345)\n",
    "S = simulation(J,h,gamma,steps,dt)\n",
    "\n",
    "filename = 'DATA/spins_N'+str(N)+'_steps'+str(steps)+'_dt'+str(dt)+'_gamma'+str(gamma)+'.npy'\n",
    "np.save(filename,S)\n"
   ]
  },
  {
   "cell_type": "code",
   "execution_count": 4,
   "id": "modular-particular",
   "metadata": {},
   "outputs": [],
   "source": [
    "filename = 'DATA/params_N'+str(N)+'_steps'+str(steps)+'_dt'+str(dt)+'_gamma'+str(gamma)+'.npy'\n",
    "np.save(filename,p_real)"
   ]
  },
  {
   "cell_type": "code",
   "execution_count": 5,
   "id": "hazardous-ground",
   "metadata": {},
   "outputs": [
    {
     "data": {
      "text/plain": [
       "Text(0.5, 1.0, 'Spin evlolution in time. [$s_i=1$ yellow, $s_i=-1$ blue]')"
      ]
     },
     "execution_count": 5,
     "metadata": {},
     "output_type": "execute_result"
    },
    {
     "data": {
      "image/png": "[encoded data removed]",
      "text/plain": [
       "<Figure size 1080x360 with 1 Axes>"
      ]
     },
     "metadata": {
      "needs_background": "light"
     },
     "output_type": "display_data"
    }
   ],
   "source": [
    "plt.figure(figsize=(15,5))\n",
    "plt.imshow(S[:10,:],aspect = 'auto', cmap = 'binary', interpolation = 'None')\n",
    "plt.xlabel('time')\n",
    "plt.ylabel(r'$s_i$')\n",
    "plt.title(r'Spin evlolution in time. [$s_i=1$ yellow, $s_i=-1$ blue]')"
   ]
  },
  {
   "cell_type": "markdown",
   "id": "indonesian-emission",
   "metadata": {},
   "source": [
    "### NB\n",
    "$S$ is $S_{it}$ "
   ]
  },
  {
   "cell_type": "markdown",
   "id": "cognitive-silver",
   "metadata": {},
   "source": [
    "## Inference\n",
    "\n",
    "### Equations\n",
    "\n",
    "$$\n",
    "\\dot C_{ij} = \\delta t ^{-1} \\cdot [\\langle s_i(t+\\delta t)\\cdot s_j(t) \\rangle_{t} - C_{i,j}] \\\\\n",
    "C_{ij} = \\langle s_i(t)\\cdot s_j(t) \\rangle_{t} \\\\\n",
    "L = \\frac 1 {N_t} \\sum_t\\sum_i \\Big[ h_i\\cdot s_i(t) + \\big[\\sum_{j\\ne i} J_{ij}\\cdot (\\gamma^{-1}\\dot{C_{ij}} + C_{ij})\\big] - \\log \\cosh H_i(t)\\Big]\n",
    "$$"
   ]
  },
  {
   "cell_type": "markdown",
   "id": "noticed-glory",
   "metadata": {},
   "source": [
    "### $C$ and $\\dot C$"
   ]
  },
  {
   "cell_type": "code",
   "execution_count": 6,
   "id": "practical-replacement",
   "metadata": {},
   "outputs": [],
   "source": [
    "def C_and_Cdot(S,dt):\n",
    "    N = S.shape[0]\n",
    "    C = np.dot(S, S.T)/S.shape[1]\n",
    "    C_dot = np.dot(S[:,1:], S[:,:-1].T)/(S.shape[1]-1)\n",
    "    C_dot -= C\n",
    "    C_dot /= dt\n",
    "        \n",
    "    return C,C_dot        "
   ]
  },
  {
   "cell_type": "code",
   "execution_count": 7,
   "id": "medical-consciousness",
   "metadata": {
    "scrolled": true
   },
   "outputs": [],
   "source": [
    "C,C_dot = C_and_Cdot(S,dt)"
   ]
  },
  {
   "cell_type": "code",
   "execution_count": 8,
   "id": "compatible-insert",
   "metadata": {},
   "outputs": [
    {
     "data": {
      "text/plain": [
       "(50, 100000)"
      ]
     },
     "execution_count": 8,
     "metadata": {},
     "output_type": "execute_result"
    }
   ],
   "source": [
    "S.shape"
   ]
  },
  {
   "cell_type": "markdown",
   "id": "occupational-giant",
   "metadata": {},
   "source": [
    "## L\n",
    "In order to speed up the L function we use matrices.\n",
    "\n",
    "$equations$"
   ]
  },
  {
   "cell_type": "code",
   "execution_count": 9,
   "id": "placed-still",
   "metadata": {},
   "outputs": [],
   "source": [
    "def logcosh(x):\n",
    "    #the funcion is even, the trick is to avoid e^x\n",
    "    x = np.abs(x)\n",
    "    return np.log(1/2) + x + np.log(1 + np.exp(-2*x))\n",
    "\n",
    "#versione ottimizzata della funzione (e' super piu veloce); sfrutta numpy e le matrici\n",
    "def L(p,S,C,C_dot,gamma):\n",
    "    N_t = S.shape[1]\n",
    "    N = S.shape[0]\n",
    "    \n",
    "    # p are the params, S is the spins history\n",
    "    J = p[:N*N].reshape((N,N))     # NxN matrix\n",
    "    np.fill_diagonal(J,0)          #removing the diagonal terms for easier sums\n",
    "    h = p[N*N:]                    # N vector\n",
    "    \n",
    "    #### A #####\n",
    "    A = np.dot(S.T,h)\n",
    "    A = np.mean(A)\n",
    "    \n",
    "    #### B #####\n",
    "    B = J*(C_dot/gamma + C)\n",
    "    B = np.sum(B)\n",
    "    \n",
    "    #### C #####\n",
    "    C = np.tile(h,(N_t,1)).T\n",
    "    C += np.dot(J,S)\n",
    "    C = - logcosh(C)\n",
    "    C = np.mean(np.sum(C,axis=0))\n",
    "    \n",
    "    L = A+B+C\n",
    "    return L"
   ]
  },
  {
   "cell_type": "code",
   "execution_count": 10,
   "id": "growing-purchase",
   "metadata": {},
   "outputs": [],
   "source": [
    "#generating random parameters\n",
    "np.random.seed(234)\n",
    "p = np.random.normal(0,1,N*N+N)"
   ]
  },
  {
   "cell_type": "code",
   "execution_count": 11,
   "id": "configured-place",
   "metadata": {},
   "outputs": [
    {
     "name": "stdout",
     "output_type": "stream",
     "text": [
      "CPU times: user 404 ms, sys: 75.8 ms, total: 480 ms\n",
      "Wall time: 255 ms\n"
     ]
    },
    {
     "data": {
      "text/plain": [
       "-249.8086185188181"
      ]
     },
     "execution_count": 11,
     "metadata": {},
     "output_type": "execute_result"
    }
   ],
   "source": [
    "%time L(p,S,C,C_dot,gamma)"
   ]
  },
  {
   "cell_type": "markdown",
   "id": "distributed-mining",
   "metadata": {},
   "source": [
    "## Gradinent\n",
    "$$\n",
    "\\frac {\\partial L}{\\partial h_i} = \\langle s_i(t) - \\tanh{H_i(t)} \\rangle_t \\\\\n",
    "\\frac {\\partial L}{\\partial J_{ij}} = \\gamma ^ {-1} \\dot{C_{ij}} + C_{ij} - \\langle \\tanh{(H_i(t))}s_j(t)  \\rangle_t\n",
    "$$\n",
    "\n",
    "Also in this case we use matrices to speed up the computation"
   ]
  },
  {
   "cell_type": "code",
   "execution_count": 12,
   "id": "mineral-motion",
   "metadata": {},
   "outputs": [],
   "source": [
    "def grad_L(p,S,C,C_dot,gamma):\n",
    "    N_t = S.shape[1]\n",
    "    N = S.shape[0]\n",
    "    \n",
    "    # p are the params, S is the spins history\n",
    "    J = p[:N*N].reshape((N,N))     # NxN matrix\n",
    "    np.fill_diagonal(J,0)          #removing the diagonal terms for easier sums\n",
    "    h = p[N*N:]                    # N vector\n",
    "    \n",
    "    #grad wrt h\n",
    "    H = (h + np.dot(J,S).T).T\n",
    "    G_1 = np.mean(S-np.tanh(H),axis=1)\n",
    "    \n",
    "    #grad wrt J\n",
    "    G_0 = C_dot/gamma + C\n",
    "    G_0 -= (np.dot(np.tanh(H),S.T))/N_t\n",
    "    \n",
    "    #new\n",
    "    np.fill_diagonal(G_0,0)\n",
    "    return np.concatenate((G_0.flatten(),G_1))\n",
    "    "
   ]
  },
  {
   "cell_type": "markdown",
   "id": "purple-october",
   "metadata": {},
   "source": [
    "## Test the gradient"
   ]
  },
  {
   "cell_type": "code",
   "execution_count": 13,
   "id": "final-attendance",
   "metadata": {},
   "outputs": [
    {
     "name": "stdout",
     "output_type": "stream",
     "text": [
      "-0.011592375023750233\n",
      "-0.011592919690883717\n"
     ]
    }
   ],
   "source": [
    "param = 1\n",
    "\n",
    "x = np.ones(N*N + N) + 10\n",
    "dx = 0.00001\n",
    "print(grad_L(x,S,C,C_dot,gamma)[param])\n",
    "y_i = L(x,S,C,C_dot,gamma)\n",
    "x[param]+=dx\n",
    "y_f = L(x,S,C,C_dot,gamma)\n",
    "print((y_f-y_i)/dx)"
   ]
  },
  {
   "cell_type": "markdown",
   "id": "immediate-defense",
   "metadata": {},
   "source": [
    "### Maximization"
   ]
  },
  {
   "cell_type": "markdown",
   "id": "criminal-jumping",
   "metadata": {},
   "source": [
    "### GA"
   ]
  },
  {
   "cell_type": "code",
   "execution_count": 14,
   "id": "circular-underwear",
   "metadata": {
    "scrolled": false
   },
   "outputs": [
    {
     "name": "stderr",
     "output_type": "stream",
     "text": [
      "100%|██████████| 150/150 [01:26<00:00,  1.74it/s]"
     ]
    },
    {
     "name": "stdout",
     "output_type": "stream",
     "text": [
      "MSE:  745.2414791425138\n"
     ]
    },
    {
     "name": "stderr",
     "output_type": "stream",
     "text": [
      "\n"
     ]
    },
    {
     "data": {
      "text/plain": [
       "[<matplotlib.lines.Line2D at 0x7f5ba42967f0>]"
      ]
     },
     "execution_count": 14,
     "metadata": {},
     "output_type": "execute_result"
    },
    {
     "data": {
      "image/png": "[encoded data removed]",
      "text/plain": [
       "<Figure size 432x288 with 1 Axes>"
      ]
     },
     "metadata": {
      "needs_background": "light"
     },
     "output_type": "display_data"
    },
    {
     "data": {
      "image/png": "[encoded data removed]",
      "text/plain": [
       "<Figure size 432x288 with 1 Axes>"
      ]
     },
     "metadata": {
      "needs_background": "light"
     },
     "output_type": "display_data"
    }
   ],
   "source": [
    "np.random.seed(1234)\n",
    "l_r = 0.2\n",
    "STEPS = 150\n",
    "p_0 = np.random.normal(0,2,N*N+N)\n",
    "\n",
    "ris = [L(p_0,S,C,C_dot,gamma)]\n",
    "for i in tqdm(range(STEPS)):\n",
    "    p_0 += l_r*grad_L(p_0,S,C,C_dot,gamma)\n",
    "    ris.append(L(p_0,S,C,C_dot,gamma))\n",
    "    if ris[-1]<ris[-2]: break\n",
    "\n",
    "print('MSE: ',np.sum((p_0-p_real)**2))  \n",
    "plt.plot(ris)\n",
    "plt.figure()\n",
    "plt.plot(p_0,p_real,'o')\n",
    "plt.plot([min(p_real),max(p_real)],[min(p_real),max(p_real)],'--',color ='red')"
   ]
  },
  {
   "cell_type": "markdown",
   "id": "dried-nitrogen",
   "metadata": {},
   "source": [
    "### NAG"
   ]
  },
  {
   "cell_type": "code",
   "execution_count": 15,
   "id": "lined-pickup",
   "metadata": {},
   "outputs": [
    {
     "name": "stderr",
     "output_type": "stream",
     "text": [
      "100%|██████████| 150/150 [01:22<00:00,  1.81it/s]"
     ]
    },
    {
     "name": "stdout",
     "output_type": "stream",
     "text": [
      "MSE:  768.471296198225\n"
     ]
    },
    {
     "name": "stderr",
     "output_type": "stream",
     "text": [
      "\n"
     ]
    },
    {
     "data": {
      "text/plain": [
       "[<matplotlib.lines.Line2D at 0x7f5ba4208280>]"
      ]
     },
     "execution_count": 15,
     "metadata": {},
     "output_type": "execute_result"
    },
    {
     "data": {
      "image/png": "[encoded data removed]",
      "text/plain": [
       "<Figure size 432x288 with 1 Axes>"
      ]
     },
     "metadata": {
      "needs_background": "light"
     },
     "output_type": "display_data"
    },
    {
     "data": {
      "image/png": "[encoded data removed]",
      "text/plain": [
       "<Figure size 432x288 with 1 Axes>"
      ]
     },
     "metadata": {
      "needs_background": "light"
     },
     "output_type": "display_data"
    }
   ],
   "source": [
    "np.random.seed(1234)\n",
    "p_nag = np.random.normal(0,2,N*N+N)\n",
    "v = np.zeros(N*N+N)\n",
    "### PARAMS\n",
    "steps = 150\n",
    "l_r = 0.1\n",
    "fric = 0.9\n",
    "\n",
    "\n",
    "ris = [L(p_nag,S,C,C_dot,gamma)]\n",
    "for i in tqdm(range(steps)):\n",
    "    v = fric*v + l_r * (grad_L(p_nag+fric*v,S,C,C_dot,gamma))\n",
    "    p_nag += v\n",
    "    ris.append(L(p_nag,S,C,C_dot,gamma))\n",
    "\n",
    "print('MSE: ',np.sum((p_nag-p_real)**2))      \n",
    "plt.plot(ris)\n",
    "plt.figure()\n",
    "plt.plot(p_nag,p_real,'o')\n",
    "plt.plot([min(p_real),max(p_real)],[min(p_real),max(p_real)],'--',color ='red')"
   ]
  },
  {
   "cell_type": "markdown",
   "id": "palestinian-residence",
   "metadata": {},
   "source": [
    "### RMS prop"
   ]
  },
  {
   "cell_type": "code",
   "execution_count": 16,
   "id": "universal-species",
   "metadata": {
    "scrolled": false
   },
   "outputs": [
    {
     "name": "stderr",
     "output_type": "stream",
     "text": [
      "100%|██████████| 300/300 [01:43<00:00,  2.90it/s]"
     ]
    },
    {
     "name": "stdout",
     "output_type": "stream",
     "text": [
      "MSE:  1999.2106555167034\n"
     ]
    },
    {
     "name": "stderr",
     "output_type": "stream",
     "text": [
      "\n"
     ]
    },
    {
     "data": {
      "text/plain": [
       "[<matplotlib.lines.Line2D at 0x7f5ba4242520>]"
      ]
     },
     "execution_count": 16,
     "metadata": {},
     "output_type": "execute_result"
    },
    {
     "data": {
      "image/png": "[encoded data removed]",
      "text/plain": [
       "<Figure size 432x288 with 1 Axes>"
      ]
     },
     "metadata": {
      "needs_background": "light"
     },
     "output_type": "display_data"
    }
   ],
   "source": [
    "p_rms = np.random.normal(0,2,N*N+N)\n",
    "s = np.zeros(N*N+N)\n",
    "### PARAMS\n",
    "steps = 300\n",
    "l_r = 0.05\n",
    "beta = 0.9\n",
    "eps = 10**(-8)\n",
    "\n",
    "#ris = [L(p_rms,S,C,C_dot,gamma)]\n",
    "for i in tqdm(range(steps)):\n",
    "    g = grad_L(p_rms,S,C,C_dot,gamma) \n",
    "    s = beta * s + (1-beta)*g*g\n",
    "    p_rms += l_r*g/np.sqrt(s+eps)                                      \n",
    "    \n",
    "    #ris.append(L(p_rms,S,C,C_dot,gamma))\n",
    "\n",
    "print('MSE: ',np.sum((p_rms-p_real)**2))      \n",
    "#plt.plot(ris)\n",
    "plt.figure()\n",
    "plt.plot(p_rms,p_real,'o')\n",
    "plt.plot([min(p_real),max(p_real)],[min(p_real),max(p_real)],'--',color ='red')"
   ]
  },
  {
   "cell_type": "markdown",
   "id": "resident-prerequisite",
   "metadata": {},
   "source": [
    "## ADAM"
   ]
  },
  {
   "cell_type": "code",
   "execution_count": 17,
   "id": "incredible-guitar",
   "metadata": {},
   "outputs": [
    {
     "name": "stderr",
     "output_type": "stream",
     "text": [
      "100%|██████████| 149/149 [00:48<00:00,  3.08it/s]"
     ]
    },
    {
     "name": "stdout",
     "output_type": "stream",
     "text": [
      "MSE:  9232.66786496558\n"
     ]
    },
    {
     "name": "stderr",
     "output_type": "stream",
     "text": [
      "\n"
     ]
    },
    {
     "data": {
      "text/plain": [
       "[<matplotlib.lines.Line2D at 0x7f5ba418c820>]"
      ]
     },
     "execution_count": 17,
     "metadata": {},
     "output_type": "execute_result"
    },
    {
     "data": {
      "image/png": "[encoded data removed]",
      "text/plain": [
       "<Figure size 432x288 with 1 Axes>"
      ]
     },
     "metadata": {
      "needs_background": "light"
     },
     "output_type": "display_data"
    }
   ],
   "source": [
    "p_adam = np.random.normal(0,2,N*N+N)\n",
    "s = np.zeros(N*N+N)\n",
    "m = np.zeros(N*N+N)\n",
    "\n",
    "s_h = np.zeros(N*N+N)\n",
    "m_h = np.zeros(N*N+N)\n",
    "\n",
    "### PARAMS\n",
    "steps = 150\n",
    "l_r = 0.1\n",
    "beta1 = 0.9\n",
    "beta2 = 0.9\n",
    "eps = 10**(-8)\n",
    "\n",
    "ris = [L(p_adam,S,C,C_dot,gamma)]\n",
    "for i in tqdm(range(1,steps)):\n",
    "    g = grad_L(p_adam,S,C,C_dot,gamma)\n",
    "    m = beta1 * m + (1-beta1)*g\n",
    "    s = beta2 * s + (1-beta2)*g*g\n",
    "    m_h = 1/(1-beta1**i)*m\n",
    "    s_h = 1/(1-beta2**i)*s\n",
    "    \n",
    "    p_adam += l_r*m_h/np.sqrt(s_h+eps)                                      \n",
    "    #ris.append(L(p_adam,S,C,C_dot,gamma))\n",
    "\n",
    "print('MSE: ',np.sum((p_adam-p_real)**2))  \n",
    "#plt.plot(ris)\n",
    "plt.figure()\n",
    "plt.plot(p_adam,p_real,'o')\n",
    "plt.plot([min(p_real),max(p_real)],[min(p_real),max(p_real)],'--',color ='red')"
   ]
  },
  {
   "cell_type": "markdown",
   "id": "iraqi-climb",
   "metadata": {},
   "source": [
    "### Parallelization (main idea)\n",
    "We can split verticaly the dataset and parallelize the times"
   ]
  },
  {
   "cell_type": "code",
   "execution_count": 18,
   "id": "informational-crawford",
   "metadata": {},
   "outputs": [],
   "source": [
    "from dask import delayed\n",
    "\n",
    "def parralel_grad(p,S_split,C,C_dot,gamma):\n",
    "    ris = []\n",
    "    for S in S_split:\n",
    "        ris.append(delayed(grad_L)(p,S,C,C_dot,gamma))\n",
    "    grad = delayed(sum)(ris).compute()/len(S_split)\n",
    "    return grad"
   ]
  },
  {
   "cell_type": "code",
   "execution_count": 19,
   "id": "stainless-costa",
   "metadata": {},
   "outputs": [],
   "source": [
    "n_cores = 4\n",
    "S_split = np.array_split(S,n_cores,axis = 1)"
   ]
  },
  {
   "cell_type": "code",
   "execution_count": 21,
   "id": "phantom-analyst",
   "metadata": {},
   "outputs": [
    {
     "name": "stdout",
     "output_type": "stream",
     "text": [
      "CPU times: user 863 ms, sys: 218 ms, total: 1.08 s\n",
      "Wall time: 298 ms\n",
      "CPU times: user 642 ms, sys: 355 ms, total: 997 ms\n",
      "Wall time: 422 ms\n"
     ]
    }
   ],
   "source": [
    "%time _ = parralel_grad(p_real,S_split,C,C_dot,gamma)\n",
    "%time _ = grad_L(p_real,S,C,C_dot,gamma)"
   ]
  },
  {
   "cell_type": "code",
   "execution_count": null,
   "id": "continent-retention",
   "metadata": {},
   "outputs": [],
   "source": []
  }
 ],
 "metadata": {
  "kernelspec": {
   "display_name": "Python 3",
   "language": "python",
   "name": "python3"
  },
  "language_info": {
   "codemirror_mode": {
    "name": "ipython",
    "version": 3
   },
   "file_extension": ".py",
   "mimetype": "text/x-python",
   "name": "python",
   "nbconvert_exporter": "python",
   "pygments_lexer": "ipython3",
   "version": "3.8.8"
  }
 },
 "nbformat": 4,
 "nbformat_minor": 5
}
